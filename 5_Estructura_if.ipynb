{
  "nbformat": 4,
  "nbformat_minor": 0,
  "metadata": {
    "colab": {
      "provenance": [],
      "authorship_tag": "ABX9TyOy46vvaCGGRFE5/F85Nhsl",
      "include_colab_link": true
    },
    "kernelspec": {
      "name": "python3",
      "display_name": "Python 3"
    },
    "language_info": {
      "name": "python"
    }
  },
  "cells": [
    {
      "cell_type": "markdown",
      "metadata": {
        "id": "view-in-github",
        "colab_type": "text"
      },
      "source": [
        "<a href=\"https://colab.research.google.com/github/urkopa/python_Course/blob/main/5_Estructura_if.ipynb\" target=\"_parent\"><img src=\"https://colab.research.google.com/assets/colab-badge.svg\" alt=\"Open In Colab\"/></a>"
      ]
    },
    {
      "cell_type": "markdown",
      "source": [
        "Uso de condiconales conocidos como if statements, estos nos permiten comprobar cualquier condición de interés."
      ],
      "metadata": {
        "id": "YQMg9KhcqtEc"
      }
    },
    {
      "cell_type": "code",
      "execution_count": 1,
      "metadata": {
        "colab": {
          "base_uri": "https://localhost:8080/"
        },
        "id": "EfQ3VgqlqIjk",
        "outputId": "b61a5578-f95f-455e-f69c-c351c7026e04"
      },
      "outputs": [
        {
          "output_type": "stream",
          "name": "stdout",
          "text": [
            "Audi\n",
            "Bmw\n",
            "Subaru\n",
            "Toyota\n",
            "RENAULT\n"
          ]
        }
      ],
      "source": [
        "# ejemplo simple de uso de for\n",
        "cars = ['audi', 'bmw', 'subaru', 'toyota', 'renault']\n",
        "\n",
        "for car in cars:\n",
        "  if car =='renault':\n",
        "    print(car.upper())\n",
        "  else:\n",
        "    print(car.title())"
      ]
    },
    {
      "cell_type": "markdown",
      "source": [
        "¿Por qué suele emplearse el primer término en singular (car) y el segundo en plural (cars)?\n",
        "\n",
        "En muchos lenguajes de programación, especialmente aquellos con una sintaxis basada en el inglés, es común utilizar nombres de variables en singular cuando se refieren a una única entidad y en plural cuando se refieren a una colección de entidades. En este caso, \"car\" podría referirse a un único automóvil, mientras que \"cars\" podría hacer referencia a una lista o colección de automóviles."
      ],
      "metadata": {
        "id": "kNXX3rDUs-HU"
      }
    },
    {
      "cell_type": "markdown",
      "source": [
        "Test Condicional - Conditional Test - En el centro de toda sentencia condional o sentencia if. Es una expresión que puede ser evaluada como verdadera o falsa True or False, Python ejecuta el código siguiendo la sentencia if. Si la condición es evaluada como false, Python ignora el código que sigue a la condición if."
      ],
      "metadata": {
        "id": "TztGJUxhtzna"
      }
    },
    {
      "cell_type": "markdown",
      "source": [],
      "metadata": {
        "id": "3RMfyf8utzVq"
      }
    },
    {
      "cell_type": "markdown",
      "source": [],
      "metadata": {
        "id": "6apUS6ylqqfg"
      }
    },
    {
      "cell_type": "code",
      "source": [
        "# Test Condicional - Conditional Test -\n",
        "\n",
        "car = 'renault'\n",
        "\n",
        "# el uso de == realiza una pregunta ¿es el valor de car igual a bmw,\n",
        "# en este caso no se corresponde con la variable que hemos indicado con anterioridad y por lo tanto la respuesta es False\n",
        "car == 'bmw'\n"
      ],
      "metadata": {
        "colab": {
          "base_uri": "https://localhost:8080/"
        },
        "id": "q9moww7eti4f",
        "outputId": "deffcf73-ac6d-4a70-ec95-9963d9f9d5d7"
      },
      "execution_count": 2,
      "outputs": [
        {
          "output_type": "execute_result",
          "data": {
            "text/plain": [
              "False"
            ]
          },
          "metadata": {},
          "execution_count": 2
        }
      ]
    },
    {
      "cell_type": "markdown",
      "source": [
        "Python es sensible a las mayúsculas y las minúsculas cuando empleamos ==, por lo tanto, dos valores, uno en minúsculas y otro en mayúsculas no van a ser considerados iguales. podemos usar:\n",
        "\n",
        "upper = mayúsculas Este método se utiliza para convertir todas las letras de un texto a mayúsculas. title = Este método se utiliza para convertir el texto en un formato de título, donde la primera letra de cada palabra se convierte en mayúscula y las demás a minúscula. lower = Este método se utiliza para convertir todas las letras de un texto a minúsculas."
      ],
      "metadata": {
        "id": "hb3Ka0ymwc-V"
      }
    },
    {
      "cell_type": "code",
      "source": [
        "car = 'Audi'\n",
        "car == 'audi'"
      ],
      "metadata": {
        "colab": {
          "base_uri": "https://localhost:8080/"
        },
        "id": "ks7b8KnkwUUN",
        "outputId": "ad3f3e36-4644-486d-f69b-d4639640c704"
      },
      "execution_count": 4,
      "outputs": [
        {
          "output_type": "execute_result",
          "data": {
            "text/plain": [
              "False"
            ]
          },
          "metadata": {},
          "execution_count": 4
        }
      ]
    },
    {
      "cell_type": "code",
      "source": [
        "car = 'Audi'\n",
        "car.lower() == 'audi'"
      ],
      "metadata": {
        "colab": {
          "base_uri": "https://localhost:8080/"
        },
        "id": "mbyUJ5IivVFl",
        "outputId": "def7b77e-54a3-4e62-e8a6-c60321a98595"
      },
      "execution_count": 5,
      "outputs": [
        {
          "output_type": "execute_result",
          "data": {
            "text/plain": [
              "True"
            ]
          },
          "metadata": {},
          "execution_count": 5
        }
      ]
    },
    {
      "cell_type": "markdown",
      "source": [
        "Las páginas web suelen forzar este tipo de reglas con los datos de usuario de una manera similar a esta. Por ejemplo, un sitio puede usar un test condicional como este para asegurarse que todos los usuarios tengan un único nombre de usuario, no solamente una variación de la capitalización de la misma. Cuando alguien emplea un nuevo nombre, el mismo es convertido a letras minúsculas y comparado con las versiones en minúscula de los otros usuarios."
      ],
      "metadata": {
        "id": "jI8aHTYnSXA9"
      }
    },
    {
      "cell_type": "markdown",
      "source": [
        "Cuando quieres determinar que dos valores no son iguales, puedes conbinar una exclamación y un signo de igual !=\n",
        "el punto de exclamación representa en muchos lenguajes de programación not."
      ],
      "metadata": {
        "id": "8-QoAT5dUneS"
      }
    },
    {
      "cell_type": "code",
      "source": [
        "requested_topping = 'mushrooms'\n",
        "\n",
        "if requested_topping != 'anchovies':\n",
        "  print(\"hold the mushrooms\")"
      ],
      "metadata": {
        "colab": {
          "base_uri": "https://localhost:8080/"
        },
        "id": "smuka1AtT3Sv",
        "outputId": "73e3a078-de94-4251-e200-31fc9286ae2f"
      },
      "execution_count": 2,
      "outputs": [
        {
          "output_type": "stream",
          "name": "stdout",
          "text": [
            "hold the mushrooms\n"
          ]
        }
      ]
    },
    {
      "cell_type": "markdown",
      "source": [
        "Se pueden incluir varias comparaciones matemáticas en las sentencias condicionales, tales como mayor que, igual que... alt+60=<   alt+62=> alt+61= ="
      ],
      "metadata": {
        "id": "5-8Cfd3SVFkK"
      }
    },
    {
      "cell_type": "code",
      "source": [
        "age = 19\n",
        "age < 21\n",
        "\n",
        "age > 21\n",
        "\n",
        "age <= 21"
      ],
      "metadata": {
        "colab": {
          "base_uri": "https://localhost:8080/"
        },
        "id": "aKw1PBkgxRkQ",
        "outputId": "d658e5cc-5974-42c5-d183-71f4f291f5f2"
      },
      "execution_count": 7,
      "outputs": [
        {
          "output_type": "execute_result",
          "data": {
            "text/plain": [
              "True"
            ]
          },
          "metadata": {},
          "execution_count": 7
        }
      ]
    },
    {
      "cell_type": "markdown",
      "source": [
        "Las expresiones booleanas son otra forma nombre para los tests condionales. Un valor booleano puede ser True o False al igual que las expresiones condicionales después de haber sido evaluadas. Los booleanos son útiles para seguir el desarrollo de un programa."
      ],
      "metadata": {
        "id": "fc8o8QzYZkhY"
      }
    },
    {
      "cell_type": "code",
      "source": [
        "# La sentenci a if\n",
        "# En su forma más simple puede resumirse como:\n",
        "# if conditiona_test:\n",
        "# do something\n",
        "\n",
        "urko = 21\n",
        "\n",
        "if urko > 18:\n",
        "  print('you are entitled to vote')\n",
        ""
      ],
      "metadata": {
        "colab": {
          "base_uri": "https://localhost:8080/"
        },
        "id": "THk5ej7_UaQu",
        "outputId": "db15a482-1448-4b9c-e3ac-9e7d14d8672a"
      },
      "execution_count": 14,
      "outputs": [
        {
          "output_type": "stream",
          "name": "stdout",
          "text": [
            "you are entitled to vote\n"
          ]
        }
      ]
    },
    {
      "cell_type": "markdown",
      "source": [
        "Es importate el papel de la indentación -indentation- que se emplea con la estructura if de la misma forma que se usa en los loops"
      ],
      "metadata": {
        "id": "7rXdLLGNc68S"
      }
    },
    {
      "cell_type": "code",
      "source": [
        "urko = 45\n",
        "\n",
        "if urko >= 18:\n",
        "  print('puedes votar')\n",
        "else:\n",
        "  print('no puedes votar')"
      ],
      "metadata": {
        "colab": {
          "base_uri": "https://localhost:8080/"
        },
        "id": "jzGw3RdPb64_",
        "outputId": "8a4f769b-0c41-4e0f-cf9b-11bec5f0e481"
      },
      "execution_count": 16,
      "outputs": [
        {
          "output_type": "stream",
          "name": "stdout",
          "text": [
            "puedes votar\n"
          ]
        }
      ]
    },
    {
      "cell_type": "markdown",
      "source": [
        "El uso de la cadena if-elif-else. Si lo que tenemos que hacer es testear más de dos situaciones posibles, entonces usamos la sintaxis if-elif-else. Recuerda que se pueden usar múltiples elif. No es necesario el uso de else al final de la estructura if, lo usaremos en función de que sea útil."
      ],
      "metadata": {
        "id": "WRMbh5LuhrKo"
      }
    },
    {
      "cell_type": "code",
      "source": [
        "age =12\n",
        "\n",
        "if age < 4:\n",
        "  print('la entrada es gratuita')\n",
        "elif age < 18:\n",
        "  print('la entrada son 25 euros')\n",
        "else:\n",
        "  print('te va a costar un riñón, porque son 50 euros, mejor te vas a otro sitio')"
      ],
      "metadata": {
        "colab": {
          "base_uri": "https://localhost:8080/"
        },
        "id": "DjKreQeiiE8_",
        "outputId": "d59a23df-3b48-4c66-9290-3afded7fd679"
      },
      "execution_count": 22,
      "outputs": [
        {
          "output_type": "stream",
          "name": "stdout",
          "text": [
            "la entrada son 25 euros\n"
          ]
        }
      ]
    },
    {
      "cell_type": "code",
      "source": [
        "# Una forma de hacerlo más elegente sería la siguiente\n",
        "\n",
        "age = 12\n",
        "\n",
        "if age < 4:\n",
        "  cost = 0\n",
        "elif age <= 18:\n",
        "  cost = 25\n",
        "else:\n",
        "  cost = 50\n",
        "\n",
        "print(f'el coste de tu entrada es {cost}.')"
      ],
      "metadata": {
        "colab": {
          "base_uri": "https://localhost:8080/"
        },
        "id": "oY92PYvsiE72",
        "outputId": "89ec384d-b16b-4efb-ab52-5a1e7e568be4"
      },
      "execution_count": 30,
      "outputs": [
        {
          "output_type": "stream",
          "name": "stdout",
          "text": [
            "el coste de tu entrada es 25.\n"
          ]
        }
      ]
    },
    {
      "cell_type": "markdown",
      "source": [
        "Comprobando múltiples condiciones\n",
        "\n",
        "La cadena if-elif-else es poderosa, pero solamente es apropiada cuando hay que pasar un único test. Ya que tan pronto como Python lo pasa, salta el resto de comprobaciones. Si lo que necesitamos es que se comprueben todas las condiones, lo debemos hacer mediante una sucesión de instrucciones if, esto tiene senttido ya que lo que pretendemos es comprobar si más de una condición es cierta."
      ],
      "metadata": {
        "id": "w7PYnGP7mi1F"
      }
    },
    {
      "cell_type": "code",
      "source": [],
      "metadata": {
        "id": "EfLNy13FoytL"
      },
      "execution_count": null,
      "outputs": []
    }
  ]
}