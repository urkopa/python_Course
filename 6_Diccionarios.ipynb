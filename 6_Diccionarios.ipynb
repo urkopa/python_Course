{
  "nbformat": 4,
  "nbformat_minor": 0,
  "metadata": {
    "colab": {
      "provenance": [],
      "authorship_tag": "ABX9TyNzQPWJ5c9AUnvpa8C270tc",
      "include_colab_link": true
    },
    "kernelspec": {
      "name": "python3",
      "display_name": "Python 3"
    },
    "language_info": {
      "name": "python"
    }
  },
  "cells": [
    {
      "cell_type": "markdown",
      "metadata": {
        "id": "view-in-github",
        "colab_type": "text"
      },
      "source": [
        "<a href=\"https://colab.research.google.com/github/urkopa/python_Course/blob/main/6_Diccionarios.ipynb\" target=\"_parent\"><img src=\"https://colab.research.google.com/assets/colab-badge.svg\" alt=\"Open In Colab\"/></a>"
      ]
    },
    {
      "cell_type": "markdown",
      "source": [
        "Aprendemos a usar diccionarios, que nos permiten conectar piezas de información relacionadas. Aprenderemos a acceder a información en un diccionario y modificarla, porque los diccionarios pueden guardar una cantidad practicamente infinita. Veremos también cono hacer un loop a través de la información del diccionario."
      ],
      "metadata": {
        "id": "W-Q5aOH2rvt0"
      }
    },
    {
      "cell_type": "code",
      "execution_count": 7,
      "metadata": {
        "colab": {
          "base_uri": "https://localhost:8080/"
        },
        "id": "w3ZH03SbrOV0",
        "outputId": "7a1d6204-8ebd-43d0-a9bc-d863b99a2d34"
      },
      "outputs": [
        {
          "output_type": "stream",
          "name": "stdout",
          "text": [
            "verde\n"
          ]
        }
      ],
      "source": [
        "# Considera que en un juego de aliens hay aliens de diferentes colores y formas. Es un diccionario guardamos la info de un determinado alien\n",
        "\n",
        "alien_0 = {'color' : 'verde', 'puntos' : 5}\n",
        "\n",
        "print(alien_0['color'])"
      ]
    },
    {
      "cell_type": "markdown",
      "source": [
        "Esencialmente un diccionario  en Python es una colecciónn de parejas de valores clave -key-value-pairs-. Recuerda que los diccionarios están entre {}"
      ],
      "metadata": {
        "id": "spi63tAAt4jq"
      }
    },
    {
      "cell_type": "markdown",
      "source": [
        "Los diccionarios son estructuras dinámicas, por lo tanto se pueden añadir nuevos valores. Veamos como podemos hacer esto:"
      ],
      "metadata": {
        "id": "gkfwTYfvu__1"
      }
    },
    {
      "cell_type": "code",
      "source": [
        "alien_0 = {'color' : 'verde', 'puntos' : 5}\n",
        "\n",
        "alien_0['x position'] = 0\n",
        "alien_0['y position'] = 25\n",
        "print(alien_0)"
      ],
      "metadata": {
        "colab": {
          "base_uri": "https://localhost:8080/"
        },
        "id": "BfoetRHltD0a",
        "outputId": "3621c7ea-caed-4af3-9238-358b8abb5e1a"
      },
      "execution_count": 8,
      "outputs": [
        {
          "output_type": "stream",
          "name": "stdout",
          "text": [
            "{'color': 'verde', 'puntos': 5, 'x position': 0, 'y position': 25}\n"
          ]
        }
      ]
    },
    {
      "cell_type": "code",
      "source": [
        "# Haciendo un diccionario desde 0\n",
        "\n",
        "alien_0 = {}\n",
        "\n",
        "alien_0['color'] = 'amarillo'\n",
        "alien_0['puntos'] = '5'\n",
        "\n",
        "print(alien_0)\n",
        "\n"
      ],
      "metadata": {
        "colab": {
          "base_uri": "https://localhost:8080/"
        },
        "id": "sl7TIJIav_eu",
        "outputId": "f9ba57a1-1d65-43cb-8268-07b94c194eb9"
      },
      "execution_count": 11,
      "outputs": [
        {
          "output_type": "stream",
          "name": "stdout",
          "text": [
            "{'color': 'amarillo', 'puntos': '5'}\n"
          ]
        }
      ]
    },
    {
      "cell_type": "code",
      "source": [
        "alien_0['puntos'] = 16\n",
        "\n",
        "print(alien_0)"
      ],
      "metadata": {
        "colab": {
          "base_uri": "https://localhost:8080/"
        },
        "id": "0XZ1xeg9x7rW",
        "outputId": "64d3d830-8fc5-432c-e758-51ff2c0fd0bd"
      },
      "execution_count": 12,
      "outputs": [
        {
          "output_type": "stream",
          "name": "stdout",
          "text": [
            "{'color': 'amarillo', 'puntos': 16}\n"
          ]
        }
      ]
    },
    {
      "cell_type": "code",
      "source": [],
      "metadata": {
        "id": "Ty8ScnZizAqK"
      },
      "execution_count": null,
      "outputs": []
    }
  ]
}