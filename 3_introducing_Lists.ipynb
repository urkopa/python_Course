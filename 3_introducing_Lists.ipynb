{
  "nbformat": 4,
  "nbformat_minor": 0,
  "metadata": {
    "colab": {
      "provenance": [],
      "authorship_tag": "ABX9TyOur9u8Ri3Y1KEKAO4O2Z5M",
      "include_colab_link": true
    },
    "kernelspec": {
      "name": "python3",
      "display_name": "Python 3"
    },
    "language_info": {
      "name": "python"
    }
  },
  "cells": [
    {
      "cell_type": "markdown",
      "metadata": {
        "id": "view-in-github",
        "colab_type": "text"
      },
      "source": [
        "<a href=\"https://colab.research.google.com/github/urkopa/python_Course/blob/main/3_introducing_Lists.ipynb\" target=\"_parent\"><img src=\"https://colab.research.google.com/assets/colab-badge.svg\" alt=\"Open In Colab\"/></a>"
      ]
    },
    {
      "cell_type": "markdown",
      "source": [
        "¿Qué es una lista?\n",
        "Es una colección de items en un orden particular. Puedes poner lo que quieras en una lista. Al contener más de un elemento, suelen ser nombradas en plural. \n",
        "\n",
        "En Python, los paréntesis cuadrados [] indican una lista, los elementos individuales están separados por comas."
      ],
      "metadata": {
        "id": "2nBi-0ygDZUI"
      }
    },
    {
      "cell_type": "code",
      "execution_count": null,
      "metadata": {
        "colab": {
          "base_uri": "https://localhost:8080/"
        },
        "id": "iroHjkOQCsuQ",
        "outputId": "b2f55ed7-1a96-40ed-d7a4-21d8e15da915"
      },
      "outputs": [
        {
          "output_type": "stream",
          "name": "stdout",
          "text": [
            "['padre', 'madre', 'tía', 'hijo']\n",
            "padre\n",
            "hijo\n",
            "tía\n",
            "Padre\n"
          ]
        }
      ],
      "source": [
        "family = ['padre', 'madre', 'tía', 'hijo']\n",
        "print(family)\n",
        "# Acceder a los elementos de una Lista\n",
        "print(family[0])\n",
        "# Acceder al último elemento de una Lista, y últimos\n",
        "print(family[-1])\n",
        "print(family[-2])\n",
        "# Se muestra la primera letra en mayúscula\n",
        "print(family[0].title())"
      ]
    },
    {
      "cell_type": "code",
      "source": [
        "# Ejemplo de uso de valores individuales de una Lista\n",
        "message = f'mi {family[2].title()} es la persona a la que más quiero'\n",
        "print(message)\n",
        "\n",
        "# Como se muestra arriba se puede emplear f-strings para crear un mensaje basado en un valor de una Lista"
      ],
      "metadata": {
        "colab": {
          "base_uri": "https://localhost:8080/"
        },
        "id": "yvRZbfe6Ej4y",
        "outputId": "1d7b7d7a-4230-4943-bdb5-4cd652220d71"
      },
      "execution_count": null,
      "outputs": [
        {
          "output_type": "stream",
          "name": "stdout",
          "text": [
            "mi Tía es la persona a la que más quiero\n"
          ]
        }
      ]
    },
    {
      "cell_type": "code",
      "source": [
        "# Cambiar, añadir, y quitar elementos de una Lista\n",
        "\n",
        "# Modificar elementos de una Lista\n",
        "family[1] = 'anaconda'\n",
        "print(family)\n",
        "# Añadir elementos a una Lista -append=añadir, adjuntar- La forma más simple es añadir el elemento al final\n",
        "family.append('koala')\n",
        "print(family)\n",
        "# Crear una lista desde 0\n",
        "mascotas = []\n",
        "print(mascotas)\n",
        "# Añadir elementos a mascotas\n",
        "mascotas.append('perro')\n",
        "mascotas.append('gato')\n",
        "mascotas.append('calamar')\n",
        "print(mascotas)\n",
        "# Insertar elementos a una Lista en cualquier posición\n",
        "mascotas.insert(0, 'excavadora carnívora')\n",
        "print(mascotas)\n",
        "# Quitar elementos de una Lista\n",
        "\n",
        "# Con del\n",
        "del mascotas[1]\n",
        "print(mascotas)"
      ],
      "metadata": {
        "colab": {
          "base_uri": "https://localhost:8080/"
        },
        "id": "Z9HeiJovIBFx",
        "outputId": "2bcae21a-b2d2-43b3-a568-24037bd375d5"
      },
      "execution_count": null,
      "outputs": [
        {
          "output_type": "stream",
          "name": "stdout",
          "text": [
            "['padre', 'anaconda', 'tía', 'hijo', 'koala', 'koala', 'koala', 'koala', 'koala', 'koala']\n",
            "['padre', 'anaconda', 'tía', 'hijo', 'koala', 'koala', 'koala', 'koala', 'koala', 'koala', 'koala']\n",
            "[]\n",
            "['perro', 'gato', 'calamar']\n",
            "['excavadora carnívora', 'perro', 'gato', 'calamar']\n",
            "['excavadora carnívora', 'gato', 'calamar']\n"
          ]
        }
      ]
    },
    {
      "cell_type": "markdown",
      "source": [
        "Puedes querer usar el valor d eun item después de quitarlo de una lista. Por ejemplo, quizás quieras mantener la posición x e y de una nave alienígena después de que haya sido derribada, de esta forma podrías situar una explosión en su lugar. en una aplicación web puedes quitar un usuario de una lista de miembros activos y añadirlo a una lista de inactivos.\n",
        "\n",
        "El método pop() quita el último item de una lista, pero te permite seguir trabajando con él después. "
      ],
      "metadata": {
        "id": "JDoWOj76QDzy"
      }
    },
    {
      "cell_type": "code",
      "source": [
        "# Con pop() se quita el último item de una Lista\n",
        "mascotas = ['perro', 'gato', 'calamar']\n",
        "print(mascotas)\n",
        "popped_mascotas = mascotas.pop()\n",
        "print(popped_mascotas)\n",
        "print(mascotas)"
      ],
      "metadata": {
        "colab": {
          "base_uri": "https://localhost:8080/"
        },
        "id": "SuBmOThXKiUB",
        "outputId": "9bb6760e-5f8a-4aee-eec8-e70b9123b9fd"
      },
      "execution_count": null,
      "outputs": [
        {
          "output_type": "stream",
          "name": "stdout",
          "text": [
            "['perro', 'gato', 'calamar']\n",
            "calamar\n",
            "['perro', 'gato']\n"
          ]
        }
      ]
    },
    {
      "cell_type": "code",
      "source": [
        "# Una forma de hacer util esto es pensar que los datos de  nuestra lista de mascotas están ordenados de forma crononólogica, así imprimiremos la última mascota\n",
        "mascotas = ['perro', 'gato', 'calamar']\n",
        "print(mascotas)\n",
        "last_pet = mascotas.pop()\n",
        "message = (f\"la última mascota que he comprado ha sido un {last_pet.title()}.\")\n",
        "print(message)"
      ],
      "metadata": {
        "colab": {
          "base_uri": "https://localhost:8080/"
        },
        "id": "iCohsXeKUQsq",
        "outputId": "97c42594-be84-4877-d8f8-90c30337b1c9"
      },
      "execution_count": null,
      "outputs": [
        {
          "output_type": "stream",
          "name": "stdout",
          "text": [
            "['perro', 'gato', 'calamar']\n",
            "la última mascota que he comprado ha sido un Calamar.\n"
          ]
        }
      ]
    },
    {
      "cell_type": "code",
      "source": [],
      "metadata": {
        "id": "MnNMFw84Y44r"
      },
      "execution_count": null,
      "outputs": []
    }
  ]
}