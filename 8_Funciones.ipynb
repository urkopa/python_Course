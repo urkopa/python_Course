{
  "nbformat": 4,
  "nbformat_minor": 0,
  "metadata": {
    "colab": {
      "provenance": [],
      "authorship_tag": "ABX9TyOLUE8728dZxx1E4qemGtuT",
      "include_colab_link": true
    },
    "kernelspec": {
      "name": "python3",
      "display_name": "Python 3"
    },
    "language_info": {
      "name": "python"
    }
  },
  "cells": [
    {
      "cell_type": "markdown",
      "metadata": {
        "id": "view-in-github",
        "colab_type": "text"
      },
      "source": [
        "<a href=\"https://colab.research.google.com/github/urkopa/python_Course/blob/main/8_Funciones.ipynb\" target=\"_parent\"><img src=\"https://colab.research.google.com/assets/colab-badge.svg\" alt=\"Open In Colab\"/></a>"
      ]
    },
    {
      "cell_type": "markdown",
      "source": [
        "Las funciones son bloques de código que son diseñados para ejecutar un trabajo determinado. Cuadno quieres haceruna tarea que ha sido definida en una variable, llamas a la función responsable de ello."
      ],
      "metadata": {
        "id": "qFtS56f-wfmB"
      }
    },
    {
      "cell_type": "code",
      "execution_count": 2,
      "metadata": {
        "id": "NtIlMg5rwP5Y"
      },
      "outputs": [],
      "source": [
        "def saluda_al_usuario():\n",
        "  \"\"\"Muestra un simple saludo\"\"\"\n",
        "  print(\"Hello!\")"
      ]
    },
    {
      "cell_type": "code",
      "source": [
        "saluda_al_usuario()"
      ],
      "metadata": {
        "colab": {
          "base_uri": "https://localhost:8080/"
        },
        "id": "vneelNlQxeVQ",
        "outputId": "22b9750e-34fb-49a0-c3e7-60712f69ad46"
      },
      "execution_count": 3,
      "outputs": [
        {
          "output_type": "stream",
          "name": "stdout",
          "text": [
            "Hello!\n"
          ]
        }
      ]
    },
    {
      "cell_type": "code",
      "source": [
        "def saluda_al_usuario(username):\n",
        "  \"\"\"Muestra un simple saludo\"\"\"\n",
        "  print(f\"Hello, {username.title()}!\")"
      ],
      "metadata": {
        "id": "5yWWDbL4xsMZ"
      },
      "execution_count": 4,
      "outputs": []
    },
    {
      "cell_type": "code",
      "source": [
        "saluda_al_usuario('Ramón')"
      ],
      "metadata": {
        "colab": {
          "base_uri": "https://localhost:8080/"
        },
        "id": "vbqUiX5azGUS",
        "outputId": "bb5a9588-2912-426c-c543-3304ff8ce88d"
      },
      "execution_count": 6,
      "outputs": [
        {
          "output_type": "stream",
          "name": "stdout",
          "text": [
            "Hello, Ramón!\n"
          ]
        }
      ]
    },
    {
      "cell_type": "code",
      "source": [
        "def display_message():\n",
        "  \"\"\"Dice lo que has aprendido\"\"\"\n",
        "  print(\"no he aprendido una mierda\")"
      ],
      "metadata": {
        "id": "Z_lb8md4zK-B"
      },
      "execution_count": 11,
      "outputs": []
    },
    {
      "cell_type": "code",
      "source": [
        "display_message()"
      ],
      "metadata": {
        "colab": {
          "base_uri": "https://localhost:8080/"
        },
        "id": "YV2A-erj0blU",
        "outputId": "edb7a122-3cd1-4c68-f9f0-da79baef62da"
      },
      "execution_count": 12,
      "outputs": [
        {
          "output_type": "stream",
          "name": "stdout",
          "text": [
            "no he aprendido una mierda\n"
          ]
        }
      ]
    },
    {
      "cell_type": "code",
      "source": [
        "def libro_favorito(title):\n",
        "  print(f\"mi libro favorito es {title}\")"
      ],
      "metadata": {
        "id": "teQwmN8k0i8g"
      },
      "execution_count": 21,
      "outputs": []
    },
    {
      "cell_type": "code",
      "source": [
        "libro_favorito(\"El hereje\")"
      ],
      "metadata": {
        "colab": {
          "base_uri": "https://localhost:8080/"
        },
        "id": "yOdk07HT2Or-",
        "outputId": "c9ba59af-1532-45b0-fd1e-2d3ab58bc72d"
      },
      "execution_count": 23,
      "outputs": [
        {
          "output_type": "stream",
          "name": "stdout",
          "text": [
            "mi libro favorito es El hereje\n"
          ]
        }
      ]
    },
    {
      "cell_type": "code",
      "source": [
        "def describe_animal(tipo_animal, nombre_animal):\n",
        "  print(f\"/n Yo tengo un {tipo_animal}\")\n",
        "  print(f\"El nombre de mi mascota es {nombre_animal.title()}\")"
      ],
      "metadata": {
        "id": "LDZX9iw122Yq"
      },
      "execution_count": 46,
      "outputs": []
    },
    {
      "cell_type": "code",
      "source": [
        "describe_animal(\"mamut lanudo\", \"ramirarlo\")\n",
        "describe_animal(\"gaviota coja\", \"zarandilla\")"
      ],
      "metadata": {
        "colab": {
          "base_uri": "https://localhost:8080/"
        },
        "id": "ToGIaLOf4qGH",
        "outputId": "5359ec28-092e-46a8-f0ab-f588db7fe2e2"
      },
      "execution_count": 47,
      "outputs": [
        {
          "output_type": "stream",
          "name": "stdout",
          "text": [
            "/n Yo tengo un mamut lanudo\n",
            "El nombre de mi mascota es Ramirarlo\n",
            "/n Yo tengo un gaviota coja\n",
            "El nombre de mi mascota es Zarandilla\n"
          ]
        }
      ]
    },
    {
      "cell_type": "code",
      "source": [
        "def hate_like(odio, gusta):\n",
        "  \"\"\"Dice lo que más odias y te gusta\"\"\"\n",
        "  print(f\"/nLo que más odio es {odio.title()}\")\n",
        "  print(f\"Lo que más me gusta es {gusta.title()}\")"
      ],
      "metadata": {
        "id": "j2ZcBUpJ41fK"
      },
      "execution_count": 51,
      "outputs": []
    },
    {
      "cell_type": "code",
      "source": [
        "hate_like(\"madrugar\", \"fumar\")"
      ],
      "metadata": {
        "colab": {
          "base_uri": "https://localhost:8080/"
        },
        "id": "mD4csu5u9bwO",
        "outputId": "688673eb-281f-4bc7-cf24-15ba4d0c7112"
      },
      "execution_count": 52,
      "outputs": [
        {
          "output_type": "stream",
          "name": "stdout",
          "text": [
            "/nLo que más odio es Madrugar\n",
            "Lo que más me gusta es Fumar\n"
          ]
        }
      ]
    },
    {
      "cell_type": "code",
      "source": [],
      "metadata": {
        "id": "CamYSyfx9jb8"
      },
      "execution_count": null,
      "outputs": []
    }
  ]
}